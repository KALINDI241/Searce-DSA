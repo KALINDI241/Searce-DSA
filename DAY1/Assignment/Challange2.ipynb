{
 "cells": [
  {
   "cell_type": "code",
   "execution_count": 4,
   "id": "310a0ecf",
   "metadata": {},
   "outputs": [
    {
     "name": "stdout",
     "output_type": "stream",
     "text": [
      "3\n",
      "1 2 3\n",
      "4 5 6\n",
      "7 8 9\n",
      "['1', '2', '3']\n",
      "['4', '5', '6']\n",
      "['7', '8', '9']\n"
     ]
    }
   ],
   "source": [
    "# Node class\n",
    "class Node:\n",
    "  \n",
    "    # Function to initialize the node object\n",
    "    def __init__(self, data):\n",
    "        self.data = data  # Assign data\n",
    "        self.next = None  # Initialize\n",
    "                          # next as null\n",
    "  \n",
    "# Linked List class\n",
    "class LinkedList:\n",
    "    \n",
    "    # Function to initialize the Linked\n",
    "    # List object\n",
    "    def __init__(self):\n",
    "        self.head = None\n",
    "if __name__=='__main__':\n",
    "    number=int(input())\n",
    "    LIST=LinkedList()\n",
    "    current=LinkedList()\n",
    "    LIST.head=Node(input().split())\n",
    "    for i in range(1,number):\n",
    "        NewNode=Node(input().split())\n",
    "        if (i==1):\n",
    "            LIST.head.next=NewNode\n",
    "            current=NewNode\n",
    "        else:\n",
    "            current.next=NewNode\n",
    "            current=NewNode\n",
    "    current=LIST.head\n",
    "    while(current != None):\n",
    "        print(current.data)\n",
    "        current=current.next\n",
    "    \n",
    "    "
   ]
  },
  {
   "cell_type": "code",
   "execution_count": null,
   "id": "4af6b994",
   "metadata": {},
   "outputs": [],
   "source": []
  }
 ],
 "metadata": {
  "kernelspec": {
   "display_name": "Python 3",
   "language": "python",
   "name": "python3"
  },
  "language_info": {
   "codemirror_mode": {
    "name": "ipython",
    "version": 3
   },
   "file_extension": ".py",
   "mimetype": "text/x-python",
   "name": "python",
   "nbconvert_exporter": "python",
   "pygments_lexer": "ipython3",
   "version": "3.8.9"
  }
 },
 "nbformat": 4,
 "nbformat_minor": 5
}
