{
 "cells": [
  {
   "cell_type": "code",
   "execution_count": 10,
   "id": "7bd37160",
   "metadata": {},
   "outputs": [
    {
     "name": "stdout",
     "output_type": "stream",
     "text": [
      "3\n",
      "5 6 7\n",
      "7 6 5\n"
     ]
    }
   ],
   "source": [
    "input1=int(input())\n",
    "input2=input().split()\n",
    "print(\" \".join(input2[::-1]))"
   ]
  },
  {
   "cell_type": "code",
   "execution_count": 11,
   "id": "c798a553",
   "metadata": {},
   "outputs": [
    {
     "name": "stdout",
     "output_type": "stream",
     "text": [
      "7 6 5\n"
     ]
    }
   ],
   "source": [
    "k=[]\n",
    "for i in range(0,input1):\n",
    "    k.append(input2.pop())\n",
    "print(\" \".join(k))\n"
   ]
  },
  {
   "cell_type": "code",
   "execution_count": null,
   "id": "bc64ca99",
   "metadata": {},
   "outputs": [],
   "source": []
  }
 ],
 "metadata": {
  "kernelspec": {
   "display_name": "Python 3",
   "language": "python",
   "name": "python3"
  },
  "language_info": {
   "codemirror_mode": {
    "name": "ipython",
    "version": 3
   },
   "file_extension": ".py",
   "mimetype": "text/x-python",
   "name": "python",
   "nbconvert_exporter": "python",
   "pygments_lexer": "ipython3",
   "version": "3.8.9"
  }
 },
 "nbformat": 4,
 "nbformat_minor": 5
}
