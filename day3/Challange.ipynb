{
 "cells": [
  {
   "cell_type": "code",
   "execution_count": 2,
   "id": "23a98630",
   "metadata": {},
   "outputs": [
    {
     "name": "stdout",
     "output_type": "stream",
     "text": [
      "3\n",
      "0 3\n",
      "1 9\n",
      "2 6\n",
      "9\n"
     ]
    }
   ],
   "source": [
    "import heapq\n",
    "\n",
    "def minAvgWait(input1) :\n",
    "    tatWaitingTime = 0\n",
    "    totOrders = len(input1)\n",
    "    if totOrders == 0 :\n",
    "        return 0\n",
    "    pendingOrders = []\n",
    "    currentTime = input1[0][0]\n",
    "    flag = True\n",
    "    while flag :\n",
    "        while len(input1) != 0 and input1[0][0] <= currentTime :\n",
    "            order = heapq.heappop(input1)   \n",
    "            heapq.heappush(pendingOrders, (order[1], order[0]))\n",
    "        if len(pendingOrders) != 0 :\n",
    "            m = heapq.heappop(pendingOrders)\n",
    "            waitTime = currentTime - m[1] + m[0]\n",
    "            tatWaitingTime += waitTime\n",
    "            currentTime += m[0]\n",
    "        else :\n",
    "            currentTime += 1\n",
    "        if len(pendingOrders) == 0 and len(input1) == 0 :\n",
    "            flag = False\n",
    "    return tatWaitingTime/totOrders\n",
    "\n",
    "n = int(input())\n",
    "input1 = []\n",
    "for i in range(n) :\n",
    "    line = input().split()\n",
    "    l, t = int(line[0]), int(line[1])\n",
    "    heapq.heappush(input1, (l, t))\n",
    "print (int(minAvgWait(input1)))\n"
   ]
  },
  {
   "cell_type": "code",
   "execution_count": null,
   "id": "52049d27",
   "metadata": {},
   "outputs": [],
   "source": []
  }
 ],
 "metadata": {
  "kernelspec": {
   "display_name": "Python 3",
   "language": "python",
   "name": "python3"
  },
  "language_info": {
   "codemirror_mode": {
    "name": "ipython",
    "version": 3
   },
   "file_extension": ".py",
   "mimetype": "text/x-python",
   "name": "python",
   "nbconvert_exporter": "python",
   "pygments_lexer": "ipython3",
   "version": "3.8.9"
  }
 },
 "nbformat": 4,
 "nbformat_minor": 5
}
