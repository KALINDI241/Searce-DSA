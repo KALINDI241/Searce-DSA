{
 "cells": [
  {
   "cell_type": "code",
   "execution_count": null,
   "id": "67e218b9",
   "metadata": {},
   "outputs": [],
   "source": [
    "def getMax(stack):\n",
    "    maxim=0\n",
    "    for i in stack:\n",
    "        if (i>maxim):\n",
    "            maxim=i\n",
    "            #print(i)\n",
    "    print(maxim)\n",
    "    return maxim\n",
    "number=int(input())\n",
    "stack=list()\n",
    "while(number):\n",
    "    input1=input().split()\n",
    "    if(int(input1[0]) == 1):\n",
    "        stack.append(int(input1[1]))\n",
    "    elif(int(input1[0]) == 2):\n",
    "        stack.pop()\n",
    "    elif(int(input1[0]) == 3):\n",
    "        getmax(stack)\n",
    "    number-=1\n",
    "    "
   ]
  },
  {
   "cell_type": "markdown",
   "id": "e2ce6c42",
   "metadata": {},
   "source": []
  },
  {
   "cell_type": "code",
   "execution_count": null,
   "id": "0d1239e0",
   "metadata": {},
   "outputs": [],
   "source": []
  }
 ],
 "metadata": {
  "kernelspec": {
   "display_name": "Python 3",
   "language": "python",
   "name": "python3"
  },
  "language_info": {
   "codemirror_mode": {
    "name": "ipython",
    "version": 3
   },
   "file_extension": ".py",
   "mimetype": "text/x-python",
   "name": "python",
   "nbconvert_exporter": "python",
   "pygments_lexer": "ipython3",
   "version": "3.8.9"
  }
 },
 "nbformat": 4,
 "nbformat_minor": 5
}
